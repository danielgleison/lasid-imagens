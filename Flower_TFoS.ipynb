{
 "cells": [
  {
   "cell_type": "markdown",
   "metadata": {},
   "source": [
    "# Reconhecimento de Imagens usando TensorflowOnSpark\n",
    "\n",
    "## Exemplo reconhecimento  de espécies de flores\n",
    "\n",
    "Este exemplo lê um diretório de imagens, cria um vetor de features e inclui um tag de identificação.\n",
    "\n",
    "Cada diretório pode comnter qualquer numero de imagens, no entanto, é obrigatório que cada diretório possua apenas uma categoria de imagem."
   ]
  },
  {
   "cell_type": "code",
   "execution_count": 1,
   "metadata": {},
   "outputs": [
    {
     "data": {
      "text/plain": [
       "'2.3.0'"
      ]
     },
     "execution_count": 1,
     "metadata": {},
     "output_type": "execute_result"
    }
   ],
   "source": [
    "# Load libs\n",
    "import findspark\n",
    "findspark.init()\n",
    "\n",
    "from pyspark import SparkContext\n",
    "from pyspark.sql import SparkSession\n",
    "\n",
    "from pyspark.ml.evaluation import MulticlassClassificationEvaluator\n",
    "from pyspark.ml import Pipeline\n",
    "from pyspark.ml.image import ImageSchema\n",
    "\n",
    "import tensorflow as tf\n",
    "import tensorflowonspark as tfos\n",
    "\n",
    "from tensorflow.keras import layers, models, utils\n",
    "from tensorflow.keras.applications import VGG19, ResNet50, InceptionV3\n",
    "\n",
    "from tensorflowonspark import compat, TFNode, TFCluster\n",
    "from pyspark.conf import SparkConf\n",
    "\n",
    "import argparse\n",
    "import IPython.display as display\n",
    "import numpy as np\n",
    "import matplotlib.pyplot as plt\n",
    "import os\n",
    "import pathlib\n",
    "from time import perf_counter\n",
    "\n",
    "AUTOTUNE = tf.data.experimental.AUTOTUNE\n",
    "\n",
    "tf.__version__"
   ]
  },
  {
   "cell_type": "code",
   "execution_count": 2,
   "metadata": {},
   "outputs": [
    {
     "data": {
      "text/plain": [
       "'2.2.1'"
      ]
     },
     "execution_count": 2,
     "metadata": {},
     "output_type": "execute_result"
    }
   ],
   "source": [
    "tfos.__version__"
   ]
  },
  {
   "cell_type": "code",
   "execution_count": 3,
   "metadata": {},
   "outputs": [
    {
     "name": "stdout",
     "output_type": "stream",
     "text": [
      "/data/dataset/flower_photos\n"
     ]
    }
   ],
   "source": [
    "# Set main images directory\n",
    "data_repo = \"/data/dataset/flower_photos/\"\n",
    "\n",
    "TRAIN_SAMPLE = 0.8\n",
    "TEST_SAMPLE = 0.2\n",
    "BATCH_SIZE = 10\n",
    "IMG_HEIGHT = 224\n",
    "IMG_WIDTH = 224\n",
    "EPOCHS=8\n",
    "\n",
    "# Set base directory (where are all flower's directories)\n",
    "data_dir = pathlib.Path(data_repo)\n",
    "print(data_dir)"
   ]
  },
  {
   "cell_type": "code",
   "execution_count": 4,
   "metadata": {},
   "outputs": [
    {
     "name": "stdout",
     "output_type": "stream",
     "text": [
      "INFO:tensorflow:Using MirroredStrategy with devices ('/device:CPU:0',)\n"
     ]
    },
    {
     "name": "stderr",
     "output_type": "stream",
     "text": [
      "2020-08-17 21:57:55,049 INFO (MainThread-20498) Using MirroredStrategy with devices ('/device:CPU:0',)\n"
     ]
    },
    {
     "name": "stdout",
     "output_type": "stream",
     "text": [
      "INFO:tensorflow:Single-worker MultiWorkerMirroredStrategy with local_devices = ('/device:CPU:0',), communication = CollectiveCommunication.AUTO\n"
     ]
    },
    {
     "name": "stderr",
     "output_type": "stream",
     "text": [
      "2020-08-17 21:57:55,058 INFO (MainThread-20498) Single-worker MultiWorkerMirroredStrategy with local_devices = ('/device:CPU:0',), communication = CollectiveCommunication.AUTO\n"
     ]
    }
   ],
   "source": [
    "# Starting Spark Cluster with Docker\n",
    "spark = SparkSession.builder\\\n",
    "        .appName(\"FlowerID_TF_TensorflowOnSpark\") \\\n",
    "        .master(\"mesos://zk://10.129.64.20:2181,10.129.64.10:2181,10.129.64.30:2181/mesos\") \\\n",
    "        .config(\"spark.mesos.executor.docker.image\",\"lasid/spark-worker-tensorflow:2.4.6_bionic\") \\\n",
    "        .config(\"spark.mesos.containerizer\",\"docker\") \\\n",
    "        .getOrCreate()\n",
    "\n",
    "spark.conf.set(\"spark.submit.deployMode\", \"client\")\n",
    "\n",
    "# create the Spark Context\n",
    "sc = spark.sparkContext\n",
    "\n",
    "strategy = tf.distribute.experimental.MultiWorkerMirroredStrategy()"
   ]
  },
  {
   "cell_type": "code",
   "execution_count": 5,
   "metadata": {},
   "outputs": [],
   "source": [
    "#configurations = spark.sparkContext.getConf().getAll()\n",
    "\n",
    "#for conf in configurations:\n",
    "#    print(conf)"
   ]
  },
  {
   "cell_type": "markdown",
   "metadata": {},
   "source": [
    "## Bibliotecas úteis"
   ]
  },
  {
   "cell_type": "code",
   "execution_count": 6,
   "metadata": {},
   "outputs": [],
   "source": [
    "# Some usefull libs to read and prepare images\n",
    "\n",
    "def get_label(file_path):\n",
    "    # Get directory name,, i.e., flower specie \n",
    "    parts = tf.strings.split(file_path, '/')\n",
    "    # Check file path and return label\n",
    "    return parts[-2] == CLASS_NAMES\n",
    "\n",
    "def decode_img(img):\n",
    "    # Decode jpeg image\n",
    "    img = tf.image.decode_jpeg(img, channels=3) #color images\n",
    "    # Convert unit8 tensor to floats in the [0,1]range\n",
    "    img = tf.image.convert_image_dtype(img, tf.float32) \n",
    "    # Resize the image  \n",
    "    return tf.image.resize(img, [IMG_WIDTH, IMG_HEIGHT]) \n",
    "\n",
    "def process_path(file_path):\n",
    "    # Get label\n",
    "    label = get_label(file_path)\n",
    "    # Get image file and convert to tensor\n",
    "    img = tf.io.read_file(file_path)\n",
    "    img = decode_img(img)\n",
    "    return img, label\n",
    "\n",
    "def prepare_for_training(ds, cache=True, shuffle_buffer_size=1000):\n",
    "    # Test if images are on cache and use it\n",
    "    if cache:\n",
    "        if isinstance(cache, str):\n",
    "            ds = ds.cache(cache)\n",
    "        else:\n",
    "            ds = ds.cache()\n",
    "    ds = ds.shuffle(buffer_size=shuffle_buffer_size)\n",
    "    ds = ds.repeat()\n",
    "    ds = ds.batch(BATCH_SIZE)\n",
    "    # `prefetch` lets the dataset fetch batches in the background\n",
    "    ds = ds.prefetch(buffer_size=AUTOTUNE)\n",
    "    return ds\n",
    "\n",
    "def show_batch(image_batch, label_batch):\n",
    "    plt.figure(figsize=(10,10))\n",
    "    for n in range(10):\n",
    "        ax = plt.subplot(5,5,n+1)\n",
    "        plt.xticks([])\n",
    "        plt.yticks([])\n",
    "        plt.grid(False)\n",
    "        plt.imshow(image_batch[n])\n",
    "        plt.title(CLASS_NAMES[label_batch[n]==1][0].title())\n",
    "        plt.axis('off')\n",
    "    plt.show() "
   ]
  },
  {
   "cell_type": "code",
   "execution_count": 7,
   "metadata": {},
   "outputs": [],
   "source": [
    "def main_fun(args, ctx):\n",
    "#  import tensorflow_datasets as tfds\n",
    "    import tensorflow as tf\n",
    "    from tensorflowonspark import compat\n",
    "\n",
    "#  tfds.disable_progress_bar()\n",
    "    strategy = tf.distribute.experimental.MultiWorkerMirroredStrategy()\n",
    "\n",
    "    BUFFER_SIZE = args.buffer_size\n",
    "    BATCH_SIZE = args.batch_size\n",
    "    NUM_WORKERS = args.cluster_size\n",
    "    EPOCHS = args.epochs\n",
    "    TRAIN_SAMPLE = args.train_sample\n",
    "    TEST_SAMPLE = 1 - TRAIN_SAMPLE\n",
    "    GLOBAL_BATCH_SIZE = BATCH_SIZE * NUM_WORKERS\n",
    "    \n",
    "  # Scaling MNIST data from (0, 255] to (0., 1.]\n",
    "  #def scale(image, label):\n",
    "  #  return tf.cast(image, tf.float32) / 255, label\n",
    "\n",
    "  # workaround for https://github.com/tensorflow/datasets/issues/1405\n",
    "  #datasets = tfds.load(name='mnist', split='train', as_supervised=True)\n",
    "    #options = tf.data.Options()\n",
    "    #options.experimental_distribute.auto_shard_policy = tf.data.experimental.AutoShardPolicy.DATA\n",
    "    #train_datasets_unbatched = datasets.with_options(options).repeat().map(scale).shuffle(BUFFER_SIZE)\n",
    "\n",
    "    def get_label(file_path):\n",
    "        # Get directory name,, i.e., flower specie \n",
    "        parts = tf.strings.split(file_path, '/')\n",
    "        # Check file path and return label\n",
    "        return parts[-2] == CLASS_NAMES\n",
    "\n",
    "    def decode_img(img):\n",
    "        # Decode jpeg image\n",
    "        img = tf.image.decode_jpeg(img, channels=3) #color images\n",
    "        # Convert unit8 tensor to floats in the [0,1]range\n",
    "        img = tf.image.convert_image_dtype(img, tf.float32) \n",
    "        # Resize the image  \n",
    "        return tf.image.resize(img, [IMG_WIDTH, IMG_HEIGHT]) \n",
    "\n",
    "    def process_path(file_path):\n",
    "        # Get label\n",
    "        label = get_label(file_path)\n",
    "        # Get image file and convert to tensor\n",
    "        img = tf.io.read_file(file_path)\n",
    "        img = decode_img(img)\n",
    "        return img, label\n",
    "\n",
    "    def prepare_for_training(ds, cache=True, shuffle_buffer_size=1000):\n",
    "        # Test if images are on cache and use it\n",
    "        if cache:\n",
    "            if isinstance(cache, str):\n",
    "                ds = ds.cache(cache)\n",
    "            else:\n",
    "                ds = ds.cache()\n",
    "        ds = ds.shuffle(buffer_size=shuffle_buffer_size)\n",
    "        ds = ds.repeat()\n",
    "        ds = ds.batch(BATCH_SIZE)\n",
    "        # `prefetch` lets the dataset fetch batches in the background\n",
    "        ds = ds.prefetch(buffer_size=AUTOTUNE)\n",
    "        return ds\n",
    "    \n",
    "    def build_and_compile_cnn_model():\n",
    "        model = models.Sequential([\n",
    "            layers.Conv2D(16, 3, padding='same', activation='relu', input_shape=(IMG_HEIGHT, IMG_WIDTH ,3)),\n",
    "            layers.MaxPooling2D(),\n",
    "            layers.Conv2D(32, 3, padding='same', activation='relu'),\n",
    "            layers.MaxPooling2D(),\n",
    "            layers.Conv2D(64, 3, padding='same', activation='relu'),\n",
    "            layers.MaxPooling2D(),\n",
    "            layers.Flatten(),\n",
    "            layers.Dense(5, activation='relu'),\n",
    "            layers.Dense(5)\n",
    "        ])\n",
    "\n",
    "        model.compile(optimizer='adam',\n",
    "              loss=tf.keras.losses.CategoricalCrossentropy(from_logits=True),\n",
    "              metrics=['accuracy'])\n",
    "        return model\n",
    "        \n",
    "\n",
    "\n",
    "      # single node\n",
    "      # single_worker_model = build_and_compile_cnn_model()\n",
    "      # single_worker_model.fit(x=train_datasets, epochs=3)\n",
    "\n",
    "      # Here the batch size scales up by number of workers since\n",
    "      # `tf.data.Dataset.batch` expects the global batch size. Previously we used 64,\n",
    "      # and now this becomes 128.\n",
    "\n",
    "\n",
    " #   train_datasets = train_ds.batch(GLOBAL_BATCH_SIZE)\n",
    "\n",
    "      # this fails\n",
    "      # callbacks = [tf.keras.callbacks.ModelCheckpoint(filepath=args.model_dir)]\n",
    "#    tf.io.gfile.makedirs(args.model_dir)\n",
    "#    filepath = args.model_dir + \"/weights-{epoch:04d}\"\n",
    "#    callbacks = [\n",
    "#        tf.keras.callbacks.ModelCheckpoint(filepath=filepath, verbose=1, save_weights_only=True),\n",
    "#        tf.keras.callbacks.TensorBoard(log_dir=args.model_dir)\n",
    "#    ]\n",
    "\n",
    "    # Read all images files and set Tensor\n",
    "    list_ds = tf.data.Dataset.list_files(str(args.data_dir/'*/*'))\n",
    "\n",
    "    with strategy.scope():\n",
    "        labeled_ds = list_ds.map(process_path, num_parallel_calls=AUTOTUNE)\n",
    "        images_ds = prepare_for_training(labeled_ds)\n",
    "        train_ds = images_ds.take(int(TRAIN_SAMPLE*SIZE_OF_DATASET))\n",
    "        test_ds = images_ds.skip(int(TEST_SAMPLE*SIZE_OF_DATASET))\n",
    "        train_images, train_labels = next(iter(train_ds))\n",
    "        test_images, test_labels = next(iter(test_ds))\n",
    "        multi_worker_model = build_and_compile_cnn_model()\n",
    "        multi_worker_model.fit(train_images, train_labels, batch_size=BATCH_SIZE, epochs=EPOCHS, validation_data=(test_images, test_labels))\n",
    "        \n",
    "#    multi_worker_model.fit(x=train_datasets, epochs=args.epochs, steps_per_epoch=args.steps_per_epoch, callbacks=callbacks)\n",
    "\n",
    "#    from tensorflow_estimator.python.estimator.export import export_lib\n",
    "#    export_dir = export_lib.get_timestamped_export_dir(args.export_dir)\n",
    "#    compat.export_saved_model(multi_worker_model, export_dir, ctx.job_name == 'chief')\n"
   ]
  },
  {
   "cell_type": "markdown",
   "metadata": {},
   "source": [
    "## Leitura images do repositorio"
   ]
  },
  {
   "cell_type": "code",
   "execution_count": 8,
   "metadata": {},
   "outputs": [
    {
     "name": "stdout",
     "output_type": "stream",
     "text": [
      "Number of images:  4510\n"
     ]
    }
   ],
   "source": [
    "# Count the number of flower images and set dataset size\n",
    "SIZE_OF_DATASET = len(list(data_dir.glob('*/*.jpg')))\n",
    "\n",
    "print(\"Number of images: \",SIZE_OF_DATASET)"
   ]
  },
  {
   "cell_type": "code",
   "execution_count": 9,
   "metadata": {},
   "outputs": [
    {
     "name": "stdout",
     "output_type": "stream",
     "text": [
      "['dandelion' 'daisy' 'sunflower' 'rose' 'tulip']\n"
     ]
    }
   ],
   "source": [
    "# Get the Class names reading directory names\n",
    "CLASS_NAMES = np.array([item.name for item in data_dir.glob('*') if item.name != \"LICENSE.txt\"])\n",
    "#CLASS_NAMES = list([item.name for item in data_dir.glob('*') if item.name != \"LICENSE.txt\"])\n",
    "print(CLASS_NAMES)"
   ]
  },
  {
   "cell_type": "code",
   "execution_count": 10,
   "metadata": {},
   "outputs": [],
   "source": [
    "# Read all images files and set Tensor\n",
    "#list_ds = tf.data.Dataset.list_files(str(data_dir/'*/*'))\n",
    "\n",
    "#for f in list_ds.take(5):\n",
    "#    print(f.numpy())"
   ]
  },
  {
   "cell_type": "code",
   "execution_count": 11,
   "metadata": {},
   "outputs": [],
   "source": [
    "# Process images\n",
    "start_time = perf_counter()\n",
    "\n",
    "#image_df = ImageSchema.readImages(\"/data/myimages\")\n",
    "\n",
    "#labeled_ds = list_ds.map(process_path, num_parallel_calls=AUTOTUNE)\n",
    "#images_ds = prepare_for_training(labeled_ds)"
   ]
  },
  {
   "cell_type": "code",
   "execution_count": 12,
   "metadata": {},
   "outputs": [],
   "source": [
    "# Split train and test sample\n",
    "#train_ds = images_ds.take(int(TRAIN_SAMPLE*SIZE_OF_DATASET))\n",
    "#test_ds = images_ds.skip(int(TEST_SAMPLE*SIZE_OF_DATASET))\n",
    "\n",
    "#train_images, train_labels = next(iter(train_ds))\n",
    "#test_images, test_labels = next(iter(test_ds))\n",
    "\n",
    "#print(\"train image: \", tf.size(train_images))\n",
    "#print(\"train labels: \", tf.size(train_labels))\n",
    "\n",
    "#time_ip = perf_counter() - start_time\n",
    "#tf.print(\"Image processing time:\", time_ip)"
   ]
  },
  {
   "cell_type": "code",
   "execution_count": 13,
   "metadata": {},
   "outputs": [],
   "source": [
    "#image_batch, label_batch = next(iter(train_ds))\n",
    "#show_batch(image_batch.numpy(), label_batch.numpy())"
   ]
  },
  {
   "cell_type": "code",
   "execution_count": 14,
   "metadata": {},
   "outputs": [],
   "source": [
    "executors = sc._conf.get(\"spark.executor.instances\")\n",
    "num_executors = int(executors) if executors is not None else 1\n",
    "num_executors = 3"
   ]
  },
  {
   "cell_type": "code",
   "execution_count": 15,
   "metadata": {},
   "outputs": [
    {
     "name": "stdout",
     "output_type": "stream",
     "text": [
      "args: Namespace(batch_size=10, buffer_size=10000, cluster_size=3, data_dir=PosixPath('/data/dataset/flower_photos'), epochs=8, model_dir='./model', steps_per_epoch=469, tensorboard=False, train_sample=0.8)\n"
     ]
    }
   ],
   "source": [
    "parser = argparse.ArgumentParser()\n",
    "parser.add_argument(\"--batch_size\", help=\"number of records per batch\", type=int, default=BATCH_SIZE)\n",
    "parser.add_argument(\"--buffer_size\", help=\"size of shuffle buffer\", type=int, default=10000)\n",
    "parser.add_argument(\"--cluster_size\", help=\"number of nodes in the cluster\", type=int, default=num_executors)\n",
    "parser.add_argument(\"--epochs\", help=\"number of epochs\", type=int, default=EPOCHS)\n",
    "parser.add_argument(\"--train_sample\", help=\"percentage of train sample\", type=int, default=TRAIN_SAMPLE)\n",
    "parser.add_argument(\"--model_dir\", help=\"path to save model/checkpoint\", default=\"./model\")\n",
    "#parser.add_argument(\"--export_dir\", help=\"path to export saved_model\", default=\"mnist_export\")\n",
    "parser.add_argument(\"--data_dir\", help=\"path to data dir\", default=data_dir)\n",
    "parser.add_argument(\"--steps_per_epoch\", help=\"number of steps per epoch\", type=int, default=469)\n",
    "parser.add_argument(\"--tensorboard\", help=\"launch tensorboard process\", action=\"store_true\")\n",
    "\n",
    "\n",
    "\n",
    "args, unknown = parser.parse_known_args()\n",
    "#args = parser.parse_args()\n",
    "print(\"args:\", args)"
   ]
  },
  {
   "cell_type": "code",
   "execution_count": 16,
   "metadata": {},
   "outputs": [
    {
     "name": "stderr",
     "output_type": "stream",
     "text": [
      "2020-08-17 21:58:12,053 INFO (MainThread-20498) Reserving TFSparkNodes \n",
      "2020-08-17 21:58:12,056 INFO (MainThread-20498) cluster_template: {'worker': [0, 1, 2]}\n",
      "2020-08-17 21:58:12,062 INFO (MainThread-20498) Reservation server binding to port 0\n",
      "2020-08-17 21:58:12,063 INFO (MainThread-20498) listening for reservations at ('10.129.64.30', 42577)\n",
      "2020-08-17 21:58:12,066 INFO (MainThread-20498) Starting TensorFlow on executors\n",
      "2020-08-17 21:58:12,235 INFO (MainThread-20498) Waiting for TFSparkNodes to start\n",
      "2020-08-17 21:58:12,237 INFO (MainThread-20498) waiting for 3 reservations\n",
      "2020-08-17 21:58:13,242 INFO (MainThread-20498) waiting for 3 reservations\n",
      "2020-08-17 21:58:14,245 INFO (MainThread-20498) waiting for 3 reservations\n",
      "2020-08-17 21:58:15,248 INFO (MainThread-20498) waiting for 3 reservations\n",
      "2020-08-17 21:58:16,251 INFO (MainThread-20498) waiting for 1 reservations\n",
      "2020-08-17 21:58:17,255 INFO (MainThread-20498) all reservations completed\n",
      "2020-08-17 21:58:17,257 INFO (MainThread-20498) All TFSparkNodes started\n",
      "2020-08-17 21:58:17,258 INFO (MainThread-20498) {'executor_id': 0, 'host': '10.129.64.30', 'job_name': 'worker', 'task_index': 0, 'port': 36643, 'tb_pid': 0, 'tb_port': 0, 'addr': '/tmp/pymp-qi96kkm9/listener-9vq57j9n', 'authkey': b'X\\xd0\\xcf+\\xf4\\x9aN\\xb5\\xbc\\x1c\\x8dC\\xc8\\xef\\x04b'}\n",
      "2020-08-17 21:58:17,260 INFO (MainThread-20498) {'executor_id': 1, 'host': '10.129.64.40', 'job_name': 'worker', 'task_index': 1, 'port': 44261, 'tb_pid': 0, 'tb_port': 0, 'addr': '/tmp/pymp-ip7853o9/listener-wlfqjn3z', 'authkey': b'\\xc9Z\\x00\\xe3\\xe1\\x1eI.\\xb4,\\xee\\x1e\\\\_\\xdd\\x7f'}\n",
      "2020-08-17 21:58:17,261 INFO (MainThread-20498) {'executor_id': 2, 'host': '10.129.64.10', 'job_name': 'worker', 'task_index': 2, 'port': 39377, 'tb_pid': 0, 'tb_port': 0, 'addr': '/tmp/pymp-hrjjtxsy/listener-a357i5o1', 'authkey': b'\\x1c\\xdf\\xe1~\\x02\\xd1C\\xb7\\x86\\t#B,\\xfcH\\xad'}\n"
     ]
    }
   ],
   "source": [
    "# cluster = TFCluster.run(sc, main_fun, args, args.cluster_size, num_ps=0, tensorboard=args.tensorboard, input_mode=TFCluster.InputMode.TENSORFLOW, master_node='chief', log_dir=args.model_dir)    \n",
    "\n",
    "cluster = TFCluster.run(sc, main_fun, args, args.cluster_size, num_ps=0, input_mode=TFCluster.InputMode.TENSORFLOW)"
   ]
  },
  {
   "cell_type": "code",
   "execution_count": 17,
   "metadata": {},
   "outputs": [
    {
     "name": "stderr",
     "output_type": "stream",
     "text": [
      "2020-08-17 21:58:22,575 INFO (MainThread-20498) Waiting for TensorFlow nodes to complete...\n",
      "2020-08-17 21:58:44,279 INFO (MainThread-20498) Shutting down cluster\n"
     ]
    }
   ],
   "source": [
    "# Stop all\n",
    "cluster.shutdown()\n",
    "spark.stop()"
   ]
  },
  {
   "cell_type": "markdown",
   "metadata": {},
   "source": [
    "# Create Convolutional Neural Network (CNN) Model\n",
    "\n",
    "## Modelo Simples "
   ]
  },
  {
   "cell_type": "code",
   "execution_count": 11,
   "metadata": {},
   "outputs": [
    {
     "name": "stdout",
     "output_type": "stream",
     "text": [
      "Model: \"sequential\"\n",
      "_________________________________________________________________\n",
      "Layer (type)                 Output Shape              Param #   \n",
      "=================================================================\n",
      "conv2d (Conv2D)              (None, 224, 224, 16)      448       \n",
      "_________________________________________________________________\n",
      "max_pooling2d (MaxPooling2D) (None, 112, 112, 16)      0         \n",
      "_________________________________________________________________\n",
      "conv2d_1 (Conv2D)            (None, 112, 112, 32)      4640      \n",
      "_________________________________________________________________\n",
      "max_pooling2d_1 (MaxPooling2 (None, 56, 56, 32)        0         \n",
      "_________________________________________________________________\n",
      "conv2d_2 (Conv2D)            (None, 56, 56, 64)        18496     \n",
      "_________________________________________________________________\n",
      "max_pooling2d_2 (MaxPooling2 (None, 28, 28, 64)        0         \n",
      "_________________________________________________________________\n",
      "flatten (Flatten)            (None, 50176)             0         \n",
      "_________________________________________________________________\n",
      "dense (Dense)                (None, 5)                 250885    \n",
      "_________________________________________________________________\n",
      "dense_1 (Dense)              (None, 5)                 30        \n",
      "=================================================================\n",
      "Total params: 274,499\n",
      "Trainable params: 274,499\n",
      "Non-trainable params: 0\n",
      "_________________________________________________________________\n"
     ]
    }
   ],
   "source": [
    "start_time = perf_counter()\n",
    "\n",
    "model = models.Sequential([\n",
    "    layers.Conv2D(16, 3, padding='same', activation='relu', input_shape=(IMG_HEIGHT, IMG_WIDTH ,3)),\n",
    "    layers.MaxPooling2D(),\n",
    "    layers.Conv2D(32, 3, padding='same', activation='relu'),\n",
    "    layers.MaxPooling2D(),\n",
    "    layers.Conv2D(64, 3, padding='same', activation='relu'),\n",
    "    layers.MaxPooling2D(),\n",
    "    layers.Flatten(),\n",
    "    layers.Dense(5, activation='relu'),\n",
    "    layers.Dense(5)\n",
    "])\n",
    "\n",
    "model.compile(optimizer='adam',\n",
    "              loss=tf.keras.losses.CategoricalCrossentropy(from_logits=True),\n",
    "              metrics=['accuracy'])\n",
    "\n",
    "model.summary()"
   ]
  },
  {
   "cell_type": "code",
   "execution_count": 12,
   "metadata": {},
   "outputs": [
    {
     "name": "stdout",
     "output_type": "stream",
     "text": [
      "Epoch 1/8\n",
      "1/1 [==============================] - 0s 170ms/step - loss: 1.6036 - accuracy: 0.2000 - val_loss: 2.0321 - val_accuracy: 0.3000\n",
      "Epoch 2/8\n",
      "1/1 [==============================] - 0s 51ms/step - loss: 2.2155 - accuracy: 0.3000 - val_loss: 1.6189 - val_accuracy: 0.3000\n",
      "Epoch 3/8\n",
      "1/1 [==============================] - 0s 48ms/step - loss: 1.4717 - accuracy: 0.3000 - val_loss: 1.6065 - val_accuracy: 0.3000\n",
      "Epoch 4/8\n",
      "1/1 [==============================] - 0s 53ms/step - loss: 1.3453 - accuracy: 0.6000 - val_loss: 1.6245 - val_accuracy: 0.4000\n",
      "Epoch 5/8\n",
      "1/1 [==============================] - 0s 42ms/step - loss: 1.3079 - accuracy: 0.6000 - val_loss: 1.6415 - val_accuracy: 0.3000\n",
      "Epoch 6/8\n",
      "1/1 [==============================] - 0s 52ms/step - loss: 1.2645 - accuracy: 0.7000 - val_loss: 1.6340 - val_accuracy: 0.3000\n",
      "Epoch 7/8\n",
      "1/1 [==============================] - 0s 49ms/step - loss: 1.1926 - accuracy: 0.6000 - val_loss: 1.6401 - val_accuracy: 0.3000\n",
      "Epoch 8/8\n",
      "1/1 [==============================] - 0s 47ms/step - loss: 1.1209 - accuracy: 0.5000 - val_loss: 1.6388 - val_accuracy: 0.3000\n"
     ]
    }
   ],
   "source": [
    "history = model.fit(train_images, train_labels, batch_size=BATCH_SIZE, epochs=EPOCHS, validation_data=(test_images, test_labels))   "
   ]
  },
  {
   "cell_type": "markdown",
   "metadata": {},
   "source": [
    "### Evaluating the Simple CNN Model Performance"
   ]
  },
  {
   "cell_type": "code",
   "execution_count": 13,
   "metadata": {},
   "outputs": [
    {
     "data": {
      "image/png": "[encoded data removed]",
      "text/plain": [
       "<Figure size 432x288 with 1 Axes>"
      ]
     },
     "metadata": {
      "needs_background": "light"
     },
     "output_type": "display_data"
    }
   ],
   "source": [
    "plt.plot(history.history['loss'])\n",
    "plt.plot(history.history['val_loss'])\n",
    "plt.title('Model Loss')\n",
    "plt.ylabel('Loss')\n",
    "plt.xlabel('Epochs')\n",
    "plt.legend(['Train', 'Test'])\n",
    "plt.show()"
   ]
  },
  {
   "cell_type": "code",
   "execution_count": 14,
   "metadata": {},
   "outputs": [
    {
     "data": {
      "image/png": "[encoded data removed]",
      "text/plain": [
       "<Figure size 432x288 with 1 Axes>"
      ]
     },
     "metadata": {
      "needs_background": "light"
     },
     "output_type": "display_data"
    }
   ],
   "source": [
    "plt.plot(history.history['accuracy'])\n",
    "plt.plot(history.history['val_accuracy'])\n",
    "plt.title('Model Accuracy')\n",
    "plt.ylabel('Accuracy')\n",
    "plt.xlabel('Epochs')\n",
    "plt.legend(['Train', 'Test'])\n",
    "plt.show()"
   ]
  },
  {
   "cell_type": "code",
   "execution_count": 15,
   "metadata": {},
   "outputs": [
    {
     "name": "stdout",
     "output_type": "stream",
     "text": [
      "1/1 - 0s - loss: 1.0836 - accuracy: 0.3000\n",
      "1/1 - 0s - loss: 1.6388 - accuracy: 0.3000\n",
      "2.5694191090005916\n"
     ]
    }
   ],
   "source": [
    "train_loss_sm, train_acc_sm = model.evaluate(train_images, train_labels, verbose=2)\n",
    "test_loss_sm, test_acc_sm = model.evaluate(test_images, test_labels, verbose=2)\n",
    "time_sm = perf_counter() - start_time\n",
    "print(time_sm)"
   ]
  },
  {
   "cell_type": "markdown",
   "metadata": {},
   "source": [
    "## Modelo Complexo "
   ]
  },
  {
   "cell_type": "code",
   "execution_count": 16,
   "metadata": {},
   "outputs": [
    {
     "name": "stdout",
     "output_type": "stream",
     "text": [
      "Model: \"sequential_1\"\n",
      "_________________________________________________________________\n",
      "Layer (type)                 Output Shape              Param #   \n",
      "=================================================================\n",
      "conv_1 (Conv2D)              (None, 224, 224, 32)      896       \n",
      "_________________________________________________________________\n",
      "conv_2 (Conv2D)              (None, 222, 222, 32)      9248      \n",
      "_________________________________________________________________\n",
      "maxpool_1 (MaxPooling2D)     (None, 111, 111, 32)      0         \n",
      "_________________________________________________________________\n",
      "dropout (Dropout)            (None, 111, 111, 32)      0         \n",
      "_________________________________________________________________\n",
      "conv_3 (Conv2D)              (None, 111, 111, 64)      18496     \n",
      "_________________________________________________________________\n",
      "conv_4 (Conv2D)              (None, 109, 109, 64)      36928     \n",
      "_________________________________________________________________\n",
      "maxpool_2 (MaxPooling2D)     (None, 54, 54, 64)        0         \n",
      "_________________________________________________________________\n",
      "dropout_1 (Dropout)          (None, 54, 54, 64)        0         \n",
      "_________________________________________________________________\n",
      "conv_5 (Conv2D)              (None, 54, 54, 128)       73856     \n",
      "_________________________________________________________________\n",
      "conv_6 (Conv2D)              (None, 52, 52, 128)       147584    \n",
      "_________________________________________________________________\n",
      "maxpool_3 (MaxPooling2D)     (None, 26, 26, 128)       0         \n",
      "_________________________________________________________________\n",
      "flatten_1 (Flatten)          (None, 86528)             0         \n",
      "_________________________________________________________________\n",
      "dense_1 (Dense)              (None, 512)               44302848  \n",
      "_________________________________________________________________\n",
      "dropout_2 (Dropout)          (None, 512)               0         \n",
      "_________________________________________________________________\n",
      "dense_2 (Dense)              (None, 128)               65664     \n",
      "_________________________________________________________________\n",
      "output (Dense)               (None, 5)                 645       \n",
      "_________________________________________________________________\n",
      "activation (Activation)      (None, 5)                 0         \n",
      "=================================================================\n",
      "Total params: 44,656,165\n",
      "Trainable params: 44,656,165\n",
      "Non-trainable params: 0\n",
      "_________________________________________________________________\n"
     ]
    }
   ],
   "source": [
    "start_time = perf_counter()\n",
    "\n",
    "model = models.Sequential([\n",
    "# layers.Conv2D(16, 3, padding='same', activation='relu', input_shape=(IMG_HEIGHT, IMG_WIDTH ,3)),\n",
    "    layers.Conv2D(32, (3,3), padding='same', activation='relu', input_shape=(IMG_HEIGHT, IMG_WIDTH ,3), name='conv_1'),\n",
    "    layers.Conv2D(32, (3,3), activation='relu', name='conv_2'),\n",
    "    layers.MaxPooling2D(pool_size=(2,2), name='maxpool_1'),\n",
    "    layers.Dropout(0.25),\n",
    "    layers.Conv2D(64, (3,3), padding='same', activation='relu', name='conv_3'),\n",
    "    layers.Conv2D(64, (3,3), activation='relu', name='conv_4'),\n",
    "    layers.MaxPooling2D(pool_size=(2,2), name='maxpool_2'),\n",
    "    layers.Dropout(0.25),\n",
    "    layers.Conv2D(128, (3,3), padding='same', activation='relu', name='conv_5'),\n",
    "    layers.Conv2D(128, (3,3), activation='relu', name='conv_6'),\n",
    "    layers.MaxPooling2D(pool_size=(2,2), name='maxpool_3'),\n",
    "    layers.Flatten(),\n",
    "    layers.Dense(512, activation='relu', name='dense_1'),\n",
    "    layers.Dropout(0.5),\n",
    "    layers.Dense(128, activation='relu', name='dense_2'),\n",
    "    layers.Dense(len(CLASS_NAMES), name='output'),\n",
    "    layers.Activation('softmax')\n",
    "])\n",
    "\n",
    "model.compile(optimizer='adam',\n",
    "              loss=tf.keras.losses.CategoricalCrossentropy(from_logits=True),\n",
    "              metrics=['accuracy'])\n",
    "\n",
    "model.summary()"
   ]
  },
  {
   "cell_type": "code",
   "execution_count": 17,
   "metadata": {},
   "outputs": [
    {
     "name": "stdout",
     "output_type": "stream",
     "text": [
      "Epoch 1/8\n",
      "1/1 [==============================] - 0s 279ms/step - loss: 1.6079 - accuracy: 0.2000 - val_loss: 1.5944 - val_accuracy: 0.3000\n",
      "Epoch 2/8\n",
      "1/1 [==============================] - 0s 128ms/step - loss: 1.4579 - accuracy: 0.5000 - val_loss: 1.5956 - val_accuracy: 0.4000\n",
      "Epoch 3/8\n",
      "1/1 [==============================] - 0s 121ms/step - loss: 1.5760 - accuracy: 0.3000 - val_loss: 1.6048 - val_accuracy: 0.3000\n",
      "Epoch 4/8\n",
      "1/1 [==============================] - 0s 114ms/step - loss: 1.6047 - accuracy: 0.3000 - val_loss: 1.6048 - val_accuracy: 0.3000\n",
      "Epoch 5/8\n",
      "1/1 [==============================] - 0s 115ms/step - loss: 1.6048 - accuracy: 0.3000 - val_loss: 1.6048 - val_accuracy: 0.3000\n",
      "Epoch 6/8\n",
      "1/1 [==============================] - 0s 144ms/step - loss: 1.6048 - accuracy: 0.3000 - val_loss: 1.6048 - val_accuracy: 0.3000\n",
      "Epoch 7/8\n",
      "1/1 [==============================] - 0s 153ms/step - loss: 1.6048 - accuracy: 0.3000 - val_loss: 1.6048 - val_accuracy: 0.3000\n",
      "Epoch 8/8\n",
      "1/1 [==============================] - 0s 116ms/step - loss: 1.6048 - accuracy: 0.3000 - val_loss: 1.6048 - val_accuracy: 0.3000\n"
     ]
    }
   ],
   "source": [
    "history = model.fit(train_images, train_labels, batch_size=BATCH_SIZE, epochs=EPOCHS, validation_data=(test_images, test_labels))   "
   ]
  },
  {
   "cell_type": "markdown",
   "metadata": {},
   "source": [
    "### Evaluating the Complex CNN Model Performance"
   ]
  },
  {
   "cell_type": "code",
   "execution_count": 18,
   "metadata": {},
   "outputs": [
    {
     "data": {
      "image/png": "[encoded data removed]",
      "text/plain": [
       "<Figure size 432x288 with 1 Axes>"
      ]
     },
     "metadata": {
      "needs_background": "light"
     },
     "output_type": "display_data"
    }
   ],
   "source": [
    "plt.plot(history.history['loss'])\n",
    "plt.plot(history.history['val_loss'])\n",
    "plt.title('Model Loss')\n",
    "plt.ylabel('Loss')\n",
    "plt.xlabel('Epochs')\n",
    "plt.legend(['Train', 'Test'])\n",
    "plt.show()"
   ]
  },
  {
   "cell_type": "code",
   "execution_count": 19,
   "metadata": {},
   "outputs": [
    {
     "data": {
      "image/png": "[encoded data removed]",
      "text/plain": [
       "<Figure size 432x288 with 1 Axes>"
      ]
     },
     "metadata": {
      "needs_background": "light"
     },
     "output_type": "display_data"
    }
   ],
   "source": [
    "plt.plot(history.history['accuracy'])\n",
    "plt.plot(history.history['val_accuracy'])\n",
    "plt.title('Model Accuracy')\n",
    "plt.ylabel('Accuracy')\n",
    "plt.xlabel('Epochs')\n",
    "plt.legend(['Train', 'Test'])\n",
    "plt.show()"
   ]
  },
  {
   "cell_type": "code",
   "execution_count": 20,
   "metadata": {},
   "outputs": [
    {
     "name": "stdout",
     "output_type": "stream",
     "text": [
      "1/1 - 0s - loss: 1.6048 - accuracy: 0.3000\n",
      "1/1 - 0s - loss: 1.6048 - accuracy: 0.3000\n",
      "9.150911243021255\n"
     ]
    }
   ],
   "source": [
    "train_loss_cm, train_acc_cm = model.evaluate(train_images, train_labels, verbose=2)\n",
    "test_loss_cm, test_acc_cm = model.evaluate(test_images, test_labels, verbose=2)\n",
    "time_cm = perf_counter() - start_time\n",
    "print(time_cm)"
   ]
  },
  {
   "cell_type": "markdown",
   "metadata": {},
   "source": [
    "## Modelo VGG19"
   ]
  },
  {
   "cell_type": "code",
   "execution_count": 21,
   "metadata": {},
   "outputs": [
    {
     "name": "stdout",
     "output_type": "stream",
     "text": [
      "Model: \"sequential_2\"\n",
      "_________________________________________________________________\n",
      "Layer (type)                 Output Shape              Param #   \n",
      "=================================================================\n",
      "vgg19 (Functional)           (None, 7, 7, 512)         20024384  \n",
      "_________________________________________________________________\n",
      "max_pooling2d_3 (MaxPooling2 (None, 3, 3, 512)         0         \n",
      "_________________________________________________________________\n",
      "flatten_2 (Flatten)          (None, 4608)              0         \n",
      "_________________________________________________________________\n",
      "dense_2 (Dense)              (None, 5)                 23045     \n",
      "=================================================================\n",
      "Total params: 20,047,429\n",
      "Trainable params: 4,742,661\n",
      "Non-trainable params: 15,304,768\n",
      "_________________________________________________________________\n"
     ]
    }
   ],
   "source": [
    "start_time = perf_counter()\n",
    "\n",
    "pre_trained_model = VGG19(input_shape=(IMG_HEIGHT, IMG_WIDTH ,3), include_top=False, weights=\"imagenet\")\n",
    "\n",
    "#pre_trained_model.trainable = False\n",
    "for layer in pre_trained_model.layers[:19]:\n",
    "    layer.trainable = False\n",
    "\n",
    "# creating the final model  \n",
    "model = models.Sequential([\n",
    "    pre_trained_model,\n",
    "    layers.MaxPool2D((2,2) , strides = 2),\n",
    "    layers.Flatten(),\n",
    "    layers.Dense(len(CLASS_NAMES) , activation='softmax')\n",
    "])\n",
    "\n",
    "#model.compile(optimizer = \"adam\" , loss = 'categorical_crossentropy' , metrics = ['accuracy'])\n",
    "\n",
    "#model.compile(optimizer='adam',\n",
    "#              loss=tf.keras.losses.CategoricalCrossentropy(from_logits=True),\n",
    "#              metrics=['accuracy'])\n",
    "\n",
    "\n",
    "model.compile(optimizer='adam',\n",
    "              loss=tf.keras.losses.CategoricalCrossentropy(from_logits=True),\n",
    "              metrics=['accuracy'])\n",
    "\n",
    "model.summary()"
   ]
  },
  {
   "cell_type": "code",
   "execution_count": 22,
   "metadata": {},
   "outputs": [
    {
     "name": "stdout",
     "output_type": "stream",
     "text": [
      "Epoch 1/8\n",
      "1/1 [==============================] - 1s 724ms/step - loss: 1.6357 - accuracy: 0.1000 - val_loss: 1.3872 - val_accuracy: 0.6000\n",
      "Epoch 2/8\n",
      "1/1 [==============================] - 1s 598ms/step - loss: 1.0380 - accuracy: 0.8000 - val_loss: 1.4332 - val_accuracy: 0.5000\n",
      "Epoch 3/8\n",
      "1/1 [==============================] - 1s 552ms/step - loss: 0.9082 - accuracy: 1.0000 - val_loss: 1.5213 - val_accuracy: 0.3000\n",
      "Epoch 4/8\n",
      "1/1 [==============================] - 1s 558ms/step - loss: 0.9058 - accuracy: 1.0000 - val_loss: 1.5635 - val_accuracy: 0.3000\n",
      "Epoch 5/8\n",
      "1/1 [==============================] - 1s 579ms/step - loss: 0.9049 - accuracy: 1.0000 - val_loss: 1.5807 - val_accuracy: 0.3000\n",
      "Epoch 6/8\n",
      "1/1 [==============================] - 1s 563ms/step - loss: 0.9048 - accuracy: 1.0000 - val_loss: 1.5875 - val_accuracy: 0.3000\n",
      "Epoch 7/8\n",
      "1/1 [==============================] - 1s 571ms/step - loss: 0.9048 - accuracy: 1.0000 - val_loss: 1.5896 - val_accuracy: 0.3000\n",
      "Epoch 8/8\n",
      "1/1 [==============================] - 1s 559ms/step - loss: 0.9048 - accuracy: 1.0000 - val_loss: 1.5873 - val_accuracy: 0.3000\n"
     ]
    }
   ],
   "source": [
    "history = model.fit(train_images, train_labels, batch_size=BATCH_SIZE, epochs=EPOCHS, validation_data=(test_images, test_labels))   "
   ]
  },
  {
   "cell_type": "markdown",
   "metadata": {},
   "source": [
    "### Evaluating the VGG19 CNN Model Performance"
   ]
  },
  {
   "cell_type": "code",
   "execution_count": 23,
   "metadata": {},
   "outputs": [
    {
     "data": {
      "image/png": "[encoded data removed]",
      "text/plain": [
       "<Figure size 432x288 with 1 Axes>"
      ]
     },
     "metadata": {
      "needs_background": "light"
     },
     "output_type": "display_data"
    }
   ],
   "source": [
    "plt.plot(history.history['loss'])\n",
    "plt.plot(history.history['val_loss'])\n",
    "plt.title('Model Loss')\n",
    "plt.ylabel('Loss')\n",
    "plt.xlabel('Epochs')\n",
    "plt.legend(['Train', 'Test'])\n",
    "plt.show()"
   ]
  },
  {
   "cell_type": "code",
   "execution_count": 24,
   "metadata": {},
   "outputs": [
    {
     "data": {
      "image/png": "[encoded data removed]",
      "text/plain": [
       "<Figure size 432x288 with 1 Axes>"
      ]
     },
     "metadata": {
      "needs_background": "light"
     },
     "output_type": "display_data"
    }
   ],
   "source": [
    "plt.plot(history.history['accuracy'])\n",
    "plt.plot(history.history['val_accuracy'])\n",
    "plt.title('Model Accuracy')\n",
    "plt.ylabel('Accuracy')\n",
    "plt.xlabel('Epochs')\n",
    "plt.legend(['Train', 'Test'])\n",
    "plt.show()"
   ]
  },
  {
   "cell_type": "code",
   "execution_count": 25,
   "metadata": {},
   "outputs": [
    {
     "name": "stdout",
     "output_type": "stream",
     "text": [
      "1/1 - 0s - loss: 0.9048 - accuracy: 1.0000\n",
      "1/1 - 0s - loss: 1.5873 - accuracy: 0.3000\n",
      "12.244261787011055\n"
     ]
    }
   ],
   "source": [
    "train_loss_vg, train_acc_vg = model.evaluate(train_images, train_labels, verbose=2)\n",
    "test_loss_vg, test_acc_vg = model.evaluate(test_images, test_labels, verbose=2)\n",
    "time_vg = perf_counter() - start_time\n",
    "print(time_vg)"
   ]
  },
  {
   "cell_type": "markdown",
   "metadata": {},
   "source": [
    "## Modelo ResNet"
   ]
  },
  {
   "cell_type": "code",
   "execution_count": 26,
   "metadata": {},
   "outputs": [
    {
     "name": "stdout",
     "output_type": "stream",
     "text": [
      "Model: \"sequential_3\"\n",
      "_________________________________________________________________\n",
      "Layer (type)                 Output Shape              Param #   \n",
      "=================================================================\n",
      "resnet50 (Functional)        (None, 2048)              23587712  \n",
      "_________________________________________________________________\n",
      "flatten_3 (Flatten)          (None, 2048)              0         \n",
      "_________________________________________________________________\n",
      "batch_normalization (BatchNo (None, 2048)              8192      \n",
      "_________________________________________________________________\n",
      "dense_3 (Dense)              (None, 2048)              4196352   \n",
      "_________________________________________________________________\n",
      "batch_normalization_1 (Batch (None, 2048)              8192      \n",
      "_________________________________________________________________\n",
      "dense_4 (Dense)              (None, 1024)              2098176   \n",
      "_________________________________________________________________\n",
      "batch_normalization_2 (Batch (None, 1024)              4096      \n",
      "_________________________________________________________________\n",
      "dense_5 (Dense)              (None, 5)                 5125      \n",
      "=================================================================\n",
      "Total params: 29,907,845\n",
      "Trainable params: 6,309,893\n",
      "Non-trainable params: 23,597,952\n",
      "_________________________________________________________________\n"
     ]
    }
   ],
   "source": [
    "start_time = perf_counter()\n",
    "\n",
    "pre_trained_model = ResNet50(include_top=False, pooling='avg')\n",
    "\n",
    "model = models.Sequential([\n",
    "    pre_trained_model,\n",
    "    layers.Flatten(),\n",
    "    layers.BatchNormalization(),\n",
    "    layers.Dense(2048, activation='relu'),\n",
    "    layers.BatchNormalization(),\n",
    "    layers.Dense(1024, activation='relu'),\n",
    "    layers.BatchNormalization(),\n",
    "    layers.Dense(len(CLASS_NAMES), activation='softmax')\n",
    "])\n",
    "\n",
    "model.layers[0].trainable = False\n",
    "\n",
    "model.compile(optimizer='adam',\n",
    "              loss=tf.keras.losses.CategoricalCrossentropy(from_logits=True),\n",
    "              metrics=['accuracy'])\n",
    "\n",
    "model.summary()"
   ]
  },
  {
   "cell_type": "code",
   "execution_count": 27,
   "metadata": {},
   "outputs": [
    {
     "name": "stdout",
     "output_type": "stream",
     "text": [
      "Epoch 1/8\n",
      "1/1 [==============================] - 1s 952ms/step - loss: 1.5032 - accuracy: 0.4000 - val_loss: 1.6099 - val_accuracy: 0.3000\n",
      "Epoch 2/8\n",
      "1/1 [==============================] - 0s 201ms/step - loss: 1.0235 - accuracy: 0.9000 - val_loss: 1.5925 - val_accuracy: 0.5000\n",
      "Epoch 3/8\n",
      "1/1 [==============================] - 0s 206ms/step - loss: 0.9330 - accuracy: 1.0000 - val_loss: 1.5852 - val_accuracy: 0.3000\n",
      "Epoch 4/8\n",
      "1/1 [==============================] - 0s 207ms/step - loss: 0.9055 - accuracy: 1.0000 - val_loss: 1.5811 - val_accuracy: 0.3000\n",
      "Epoch 5/8\n",
      "1/1 [==============================] - 0s 200ms/step - loss: 0.9054 - accuracy: 1.0000 - val_loss: 1.5779 - val_accuracy: 0.3000\n",
      "Epoch 6/8\n",
      "1/1 [==============================] - 0s 212ms/step - loss: 0.9052 - accuracy: 1.0000 - val_loss: 1.5755 - val_accuracy: 0.3000\n",
      "Epoch 7/8\n",
      "1/1 [==============================] - 0s 197ms/step - loss: 0.9051 - accuracy: 1.0000 - val_loss: 1.5742 - val_accuracy: 0.3000\n",
      "Epoch 8/8\n",
      "1/1 [==============================] - 0s 198ms/step - loss: 0.9051 - accuracy: 1.0000 - val_loss: 1.5739 - val_accuracy: 0.3000\n"
     ]
    }
   ],
   "source": [
    "history = model.fit(train_images, train_labels, batch_size=BATCH_SIZE, epochs=EPOCHS, validation_data=(test_images, test_labels))   "
   ]
  },
  {
   "cell_type": "markdown",
   "metadata": {},
   "source": [
    "### Evaluating the Resnet CNN Model Performance"
   ]
  },
  {
   "cell_type": "code",
   "execution_count": 28,
   "metadata": {},
   "outputs": [
    {
     "data": {
      "image/png": "[encoded data removed]",
      "text/plain": [
       "<Figure size 432x288 with 1 Axes>"
      ]
     },
     "metadata": {
      "needs_background": "light"
     },
     "output_type": "display_data"
    }
   ],
   "source": [
    "plt.plot(history.history['loss'])\n",
    "plt.plot(history.history['val_loss'])\n",
    "plt.title('Model Loss')\n",
    "plt.ylabel('Loss')\n",
    "plt.xlabel('Epochs')\n",
    "plt.legend(['Train', 'Test'])\n",
    "plt.show()"
   ]
  },
  {
   "cell_type": "code",
   "execution_count": 29,
   "metadata": {},
   "outputs": [
    {
     "data": {
      "image/png": "[encoded data removed]",
      "text/plain": [
       "<Figure size 432x288 with 1 Axes>"
      ]
     },
     "metadata": {
      "needs_background": "light"
     },
     "output_type": "display_data"
    }
   ],
   "source": [
    "plt.plot(history.history['accuracy'])\n",
    "plt.plot(history.history['val_accuracy'])\n",
    "plt.title('Model Accuracy')\n",
    "plt.ylabel('Accuracy')\n",
    "plt.xlabel('Epochs')\n",
    "plt.legend(['Train', 'Test'])\n",
    "plt.show()"
   ]
  },
  {
   "cell_type": "code",
   "execution_count": 30,
   "metadata": {},
   "outputs": [
    {
     "name": "stdout",
     "output_type": "stream",
     "text": [
      "1/1 - 0s - loss: 1.4982 - accuracy: 0.3000\n",
      "1/1 - 0s - loss: 1.5739 - accuracy: 0.3000\n",
      "10.711762607999844\n"
     ]
    }
   ],
   "source": [
    "train_loss_rn, train_acc_rn = model.evaluate(train_images, train_labels, verbose=2)\n",
    "test_loss_rn, test_acc_rn = model.evaluate(test_images, test_labels, verbose=2)\n",
    "time_rn = perf_counter() - start_time\n",
    "print(time_rn)"
   ]
  },
  {
   "cell_type": "markdown",
   "metadata": {},
   "source": [
    "## Modelo InceptionV3"
   ]
  },
  {
   "cell_type": "code",
   "execution_count": 31,
   "metadata": {},
   "outputs": [
    {
     "name": "stdout",
     "output_type": "stream",
     "text": [
      "Model: \"sequential_4\"\n",
      "_________________________________________________________________\n",
      "Layer (type)                 Output Shape              Param #   \n",
      "=================================================================\n",
      "inception_v3 (Functional)    (None, 2048)              21802784  \n",
      "_________________________________________________________________\n",
      "flatten_4 (Flatten)          (None, 2048)              0         \n",
      "_________________________________________________________________\n",
      "batch_normalization_97 (Batc (None, 2048)              8192      \n",
      "_________________________________________________________________\n",
      "dense_6 (Dense)              (None, 2048)              4196352   \n",
      "_________________________________________________________________\n",
      "batch_normalization_98 (Batc (None, 2048)              8192      \n",
      "_________________________________________________________________\n",
      "dense_7 (Dense)              (None, 1024)              2098176   \n",
      "_________________________________________________________________\n",
      "batch_normalization_99 (Batc (None, 1024)              4096      \n",
      "_________________________________________________________________\n",
      "dense_8 (Dense)              (None, 5)                 5125      \n",
      "=================================================================\n",
      "Total params: 28,122,917\n",
      "Trainable params: 6,309,893\n",
      "Non-trainable params: 21,813,024\n",
      "_________________________________________________________________\n"
     ]
    }
   ],
   "source": [
    "start_time = perf_counter()\n",
    "\n",
    "pre_trained_model = InceptionV3(include_top=False, weights=\"imagenet\", pooling='avg', classifier_activation='softmax')\n",
    "\n",
    "model = models.Sequential([\n",
    "    pre_trained_model,\n",
    "    layers.Flatten(),\n",
    "    layers.BatchNormalization(),\n",
    "    layers.Dense(2048, activation='relu'),\n",
    "    layers.BatchNormalization(),\n",
    "    layers.Dense(1024, activation='relu'),\n",
    "    layers.BatchNormalization(),\n",
    "    layers.Dense(len(CLASS_NAMES), activation='softmax')\n",
    "])\n",
    "\n",
    "model.layers[0].trainable = False\n",
    "\n",
    "model.compile(optimizer='adam',\n",
    "              loss=tf.keras.losses.CategoricalCrossentropy(from_logits=True),\n",
    "              metrics=['accuracy'])\n",
    "\n",
    "model.summary()"
   ]
  },
  {
   "cell_type": "markdown",
   "metadata": {},
   "source": [
    "### Evaluating the InceptionV3 CNN Model Performance"
   ]
  },
  {
   "cell_type": "code",
   "execution_count": 32,
   "metadata": {},
   "outputs": [
    {
     "data": {
      "image/png": "[encoded data removed]",
      "text/plain": [
       "<Figure size 432x288 with 1 Axes>"
      ]
     },
     "metadata": {
      "needs_background": "light"
     },
     "output_type": "display_data"
    }
   ],
   "source": [
    "plt.plot(history.history['loss'])\n",
    "plt.plot(history.history['val_loss'])\n",
    "plt.title('Model Loss')\n",
    "plt.ylabel('Loss')\n",
    "plt.xlabel('Epochs')\n",
    "plt.legend(['Train', 'Test'])\n",
    "plt.show()"
   ]
  },
  {
   "cell_type": "code",
   "execution_count": 33,
   "metadata": {},
   "outputs": [
    {
     "data": {
      "image/png": "[encoded data removed]",
      "text/plain": [
       "<Figure size 432x288 with 1 Axes>"
      ]
     },
     "metadata": {
      "needs_background": "light"
     },
     "output_type": "display_data"
    }
   ],
   "source": [
    "plt.plot(history.history['accuracy'])\n",
    "plt.plot(history.history['val_accuracy'])\n",
    "plt.title('Model Accuracy')\n",
    "plt.ylabel('Accuracy')\n",
    "plt.xlabel('Epochs')\n",
    "plt.legend(['Train', 'Test'])\n",
    "plt.show()"
   ]
  },
  {
   "cell_type": "code",
   "execution_count": 34,
   "metadata": {},
   "outputs": [
    {
     "name": "stdout",
     "output_type": "stream",
     "text": [
      "1/1 - 0s - loss: 1.6023 - accuracy: 0.3000\n",
      "1/1 - 0s - loss: 1.6161 - accuracy: 0.2000\n",
      "5.817704162996961\n"
     ]
    }
   ],
   "source": [
    "train_loss_iv, train_acc_iv = model.evaluate(train_images, train_labels, verbose=2)\n",
    "test_loss_iv, test_acc_iv = model.evaluate(test_images, test_labels, verbose=2)\n",
    "time_iv = perf_counter() - start_time\n",
    "print(time_iv)"
   ]
  },
  {
   "cell_type": "code",
   "execution_count": null,
   "metadata": {},
   "outputs": [],
   "source": [
    "cluster = TFCluster.run(sc, main_fun, args, args.cluster_size, num_ps=0, tensorboard=args.tensorboard, input_mode=TFCluster.InputMode.SPARK, master_node='chief')\n",
    "\n",
    "# Note: need to feed extra data to ensure that each worker receives sufficient data to complete epochs\n",
    "# to compensate for variability in partition sizes and spark scheduling\n",
    "\n",
    "cluster.train(images_labels, args.epochs)\n",
    "cluster.shutdown()\n"
   ]
  },
  {
   "cell_type": "markdown",
   "metadata": {},
   "source": [
    "## Sumary  "
   ]
  },
  {
   "cell_type": "code",
   "execution_count": 35,
   "metadata": {},
   "outputs": [
    {
     "name": "stdout",
     "output_type": "stream",
     "text": [
      "===========================================================================\n",
      "===============  Compare CNN Algorithms Acurancy and Time =================\n",
      "\n",
      "   Dataset size =  4510    Train sample =  80.0 %  Test sample =  20.0 %\n",
      "   Image size: (224,224)   Batch size = 10         Epochs = 8        \n",
      "\n",
      "Processing images:                                          time = 4.6 s\n",
      "Simple Model:         train_acc = 0.30    test_acc = 0.30   time = 2.6 s\n",
      "Complex Model:        train_acc = 0.30    test_acc = 0.30   time = 9.2 s\n",
      "VGG19:                train_acc = 1.00    test_acc = 0.30   time = 12.2 s\n",
      "ResNet50:             train_acc = 0.30    test_acc = 0.30   time = 10.7 s\n",
      "InceptionV3:          train_acc = 0.30    test_acc = 0.20   time = 5.8 s\n",
      "===========================================================================\n"
     ]
    }
   ],
   "source": [
    "print(\"===========================================================================\")\n",
    "print(\"===============  Compare CNN Algorithms Acurancy and Time =================\")\n",
    "print()\n",
    "print(\"   Dataset size = \",SIZE_OF_DATASET,\"   Train sample = \",TRAIN_SAMPLE*100,\"%  Test sample = \",TEST_SAMPLE*100,\"%\")\n",
    "print(\"   Image size: (%d,%d)   Batch size = %d         Epochs = %d        \" % (IMG_HEIGHT, IMG_WIDTH, BATCH_SIZE, EPOCHS))\n",
    "print()\n",
    "print(\"Processing images:                                          time = %3.1f s\" % (time_ip))\n",
    "print(\"Simple Model:         train_acc = %1.2f    test_acc = %1.2f   time = %3.1f s\" % (train_acc_sm, test_acc_sm, time_sm))\n",
    "print(\"Complex Model:        train_acc = %1.2f    test_acc = %1.2f   time = %3.1f s\" % (train_acc_cm, test_acc_cm, time_cm))\n",
    "print(\"VGG19:                train_acc = %1.2f    test_acc = %1.2f   time = %3.1f s\" % (train_acc_vg, test_acc_vg, time_vg))\n",
    "print(\"ResNet50:             train_acc = %1.2f    test_acc = %1.2f   time = %3.1f s\" % (train_acc_rn, test_acc_rn, time_rn))\n",
    "print(\"InceptionV3:          train_acc = %1.2f    test_acc = %1.2f   time = %3.1f s\" % (train_acc_iv, test_acc_iv, time_iv))\n",
    "print(\"===========================================================================\")"
   ]
  },
  {
   "cell_type": "code",
   "execution_count": 36,
   "metadata": {},
   "outputs": [],
   "source": [
    "spark.stop()"
   ]
  },
  {
   "cell_type": "code",
   "execution_count": null,
   "metadata": {},
   "outputs": [],
   "source": []
  }
 ],
 "metadata": {
  "kernelspec": {
   "display_name": "Python 3",
   "language": "python",
   "name": "python3"
  },
  "language_info": {
   "codemirror_mode": {
    "name": "ipython",
    "version": 3
   },
   "file_extension": ".py",
   "mimetype": "text/x-python",
   "name": "python",
   "nbconvert_exporter": "python",
   "pygments_lexer": "ipython3",
   "version": "3.6.9"
  }
 },
 "nbformat": 4,
 "nbformat_minor": 4
}
