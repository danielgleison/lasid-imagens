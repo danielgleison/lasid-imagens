{
 "cells": [
  {
   "cell_type": "markdown",
   "metadata": {},
   "source": [
    "# Leitura de Arquivos de Imagens no Spark\n",
    "\n",
    "## Exemplo leitura de imagens de espécies de flores\n",
    "\n",
    "Este exemplo lê um diretório de imagens, cria um vetor de features e inclui um tag de identificação.\n",
    "\n",
    "Cada diretório pode comnter qualquer numero de imagens, no entanto, é obrigatório que cada diretório possua apenas uma categoria de imagem."
   ]
  },
  {
   "cell_type": "code",
   "execution_count": 1,
   "metadata": {},
   "outputs": [],
   "source": [
    "# Init Spark environment\n",
    "import findspark\n",
    "findspark.init()"
   ]
  },
  {
   "cell_type": "code",
   "execution_count": 2,
   "metadata": {},
   "outputs": [],
   "source": [
    "# Load libs\n",
    "from pyspark.sql import SparkSession\n",
    "from pyspark.sql.functions import lit\n",
    "\n",
    "# Set main images directory\n",
    "img_dir = \"/data/dataset/flower_photos/\""
   ]
  },
  {
   "cell_type": "code",
   "execution_count": 3,
   "metadata": {},
   "outputs": [],
   "source": [
    "# Create Spark Session\n",
    "spark = SparkSession.builder \\\n",
    "        .master(\"local[*]\") \\\n",
    "        .appName(\"FlowerIdentification\") \\\n",
    "        .getOrCreate()"
   ]
  },
  {
   "cell_type": "code",
   "execution_count": 4,
   "metadata": {},
   "outputs": [
    {
     "name": "stdout",
     "output_type": "stream",
     "text": [
      "root\n",
      " |-- image: struct (nullable = true)\n",
      " |    |-- origin: string (nullable = true)\n",
      " |    |-- height: integer (nullable = true)\n",
      " |    |-- width: integer (nullable = true)\n",
      " |    |-- nChannels: integer (nullable = true)\n",
      " |    |-- mode: integer (nullable = true)\n",
      " |    |-- data: binary (nullable = true)\n",
      " |-- label: integer (nullable = false)\n",
      "\n"
     ]
    }
   ],
   "source": [
    "#Read images usinf default Spark lib read.format(\"image\")\n",
    "#Create training & test DataFrames for transfer learning\n",
    "#Sub directories: daisy  dandelion  roses sunflowers tulips\n",
    "\n",
    "daisy_df = spark.read.format(\"image\").load(img_dir + \"daisy\").withColumn(\"label\", lit(0))\n",
    "daisy_train, daisy_test = daisy_df.randomSplit([0.8, 0.2])\n",
    "\n",
    "dandelion_df = spark.read.format(\"image\").load(img_dir + \"dandelion\").withColumn(\"label\", lit(1))\n",
    "dandelion_train, dandelion_test = dandelion_df.randomSplit([0.8, 0.2])\n",
    "\n",
    "roses_df = spark.read.format(\"image\").load(img_dir + \"roses\").withColumn(\"label\", lit(2))\n",
    "roses_train, roses_test = roses_df.randomSplit([0.8, 0.2])\n",
    "\n",
    "sunflowers_df = spark.read.format(\"image\").load(img_dir + \"sunflowers\").withColumn(\"label\", lit(3))\n",
    "sunflowers_train, sunflowers_test = sunflowers_df.randomSplit([0.8, 0.2])\n",
    "\n",
    "tulips_df = spark.read.format(\"image\").load(img_dir + \"tulips\").withColumn(\"label\", lit(4))\n",
    "tulips_train, tulips_test = tulips_df.randomSplit([0.8, 0.2])\n",
    "\n",
    "roses_df.printSchema()"
   ]
  },
  {
   "cell_type": "code",
   "execution_count": 5,
   "metadata": {},
   "outputs": [
    {
     "name": "stdout",
     "output_type": "stream",
     "text": [
      "+--------------------+-----+\n",
      "|               image|label|\n",
      "+--------------------+-----+\n",
      "|[file:///data/dat...|    0|\n",
      "|[file:///data/dat...|    0|\n",
      "|[file:///data/dat...|    0|\n",
      "|[file:///data/dat...|    0|\n",
      "|[file:///data/dat...|    0|\n",
      "|[file:///data/dat...|    0|\n",
      "|[file:///data/dat...|    0|\n",
      "|[file:///data/dat...|    0|\n",
      "|[file:///data/dat...|    0|\n",
      "|[file:///data/dat...|    0|\n",
      "|[file:///data/dat...|    0|\n",
      "|[file:///data/dat...|    0|\n",
      "|[file:///data/dat...|    0|\n",
      "|[file:///data/dat...|    0|\n",
      "|[file:///data/dat...|    0|\n",
      "|[file:///data/dat...|    0|\n",
      "|[file:///data/dat...|    0|\n",
      "|[file:///data/dat...|    0|\n",
      "|[file:///data/dat...|    0|\n",
      "|[file:///data/dat...|    0|\n",
      "+--------------------+-----+\n",
      "only showing top 20 rows\n",
      "\n",
      "+--------------------+-----+\n",
      "|               image|label|\n",
      "+--------------------+-----+\n",
      "|[file:///data/dat...|    0|\n",
      "|[file:///data/dat...|    0|\n",
      "|[file:///data/dat...|    0|\n",
      "|[file:///data/dat...|    0|\n",
      "|[file:///data/dat...|    0|\n",
      "|[file:///data/dat...|    0|\n",
      "|[file:///data/dat...|    0|\n",
      "|[file:///data/dat...|    0|\n",
      "|[file:///data/dat...|    0|\n",
      "|[file:///data/dat...|    0|\n",
      "|[file:///data/dat...|    0|\n",
      "|[file:///data/dat...|    0|\n",
      "|[file:///data/dat...|    0|\n",
      "|[file:///data/dat...|    0|\n",
      "|[file:///data/dat...|    0|\n",
      "|[file:///data/dat...|    0|\n",
      "|[file:///data/dat...|    0|\n",
      "|[file:///data/dat...|    0|\n",
      "|[file:///data/dat...|    0|\n",
      "|[file:///data/dat...|    0|\n",
      "+--------------------+-----+\n",
      "only showing top 20 rows\n",
      "\n"
     ]
    }
   ],
   "source": [
    "# Join train and test datasets\n",
    "\n",
    "#dataframe for training a classification model\n",
    "train_df = daisy_train.unionAll(dandelion_train).unionAll(roses_train).unionAll(sunflowers_train).unionAll(tulips_train)\n",
    "train_df.show()\n",
    "\n",
    "#dataframe for testing the classification model\n",
    "test_df = daisy_test.unionAll(dandelion_test).unionAll(roses_test).unionAll(sunflowers_test).unionAll(tulips_test)\n",
    "test_df.show()"
   ]
  },
  {
   "cell_type": "code",
   "execution_count": 6,
   "metadata": {},
   "outputs": [],
   "source": [
    "spark.stop()"
   ]
  },
  {
   "cell_type": "code",
   "execution_count": null,
   "metadata": {},
   "outputs": [],
   "source": []
  }
 ],
 "metadata": {
  "kernelspec": {
   "display_name": "Python 3",
   "language": "python",
   "name": "python3"
  },
  "language_info": {
   "codemirror_mode": {
    "name": "ipython",
    "version": 3
   },
   "file_extension": ".py",
   "mimetype": "text/x-python",
   "name": "python",
   "nbconvert_exporter": "python",
   "pygments_lexer": "ipython3",
   "version": "3.6.9"
  }
 },
 "nbformat": 4,
 "nbformat_minor": 4
}
